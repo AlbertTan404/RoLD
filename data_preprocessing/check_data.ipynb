{
 "cells": [
  {
   "cell_type": "code",
   "execution_count": null,
   "metadata": {},
   "outputs": [],
   "source": [
    "DATASET_ROOT_RID = 'YOUR_DIR_HERE'"
   ]
  },
  {
   "cell_type": "code",
   "execution_count": null,
   "metadata": {},
   "outputs": [],
   "source": [
    "import h5py\n",
    "from IPython.display import Image, display\n",
    "import imageio\n",
    "import numpy as np  \n",
    "import matplotlib.pyplot as plt  \n",
    "import yaml\n",
    "\n",
    "\n",
    "def display_gif_from_images(images, fps=10, filename='temp.gif'):  \n",
    "    imageio.mimsave(filename, images, format='GIF', fps=fps)  \n",
    "    display(Image(filename=filename))\n",
    "\n",
    "\n",
    "def print_group_structure(group, indent=''):  \n",
    "    for key in group.keys():  \n",
    "        item = group[key]\n",
    "        if isinstance(item, h5py.Dataset):  \n",
    "            if key == 'shape':\n",
    "                print(f\"{indent}- {key}: {item[()]}\")  \n",
    "            else:\n",
    "                print(f\"{indent}- {key}: {item.shape}\")  \n",
    "\n",
    "        elif isinstance(item, h5py.Group):\n",
    "            print(f\"{indent}- {key}: Group\")\n",
    "            print_group_structure(item, indent + '  ')\n",
    "def accumulate_delta_actions(actions):\n",
    "    for i in range(1, len(actions)):\n",
    "        actions[i] += actions[i-1]\n",
    "\n",
    "  \n",
    "def plot_3d_points_with_gradient_colors(points):  \n",
    "    x = points[:, 0]  \n",
    "    y = points[:, 1]  \n",
    "    z = points[:, 2]  \n",
    "\n",
    "    num_points = len(points)\n",
    "    colors = plt.cm.viridis(np.arange(num_points) / (num_points - 1))\n",
    "\n",
    "    fig = plt.figure()  \n",
    "    ax = fig.add_subplot(111, projection='3d')  \n",
    "    ax.scatter(x, y, z, c=colors)  \n",
    "\n",
    "    ax.set_xlabel('X-axis')  \n",
    "    ax.set_ylabel('Y-axis')  \n",
    "    ax.set_zlabel('Z-axis')  \n",
    "    plt.show()  \n",
    "\n",
    "def get_statistics(all_actions: np.array):\n",
    "    length = all_actions.shape[-1]\n",
    "    def format_statistic(data):\n",
    "        s = '['\n",
    "        for i in range(length):\n",
    "            s += str(data[i])\n",
    "            if i != length-1:\n",
    "                s += ','\n",
    "        s += ']'\n",
    "        return s\n",
    "    print(f'min: {format_statistic(all_actions.min(axis=0))}')\n",
    "    print(f'max: {format_statistic(all_actions.max(axis=0))}')\n",
    "    print(f'mean: {format_statistic(all_actions.mean(axis=0))}')\n",
    "    print(f'std: {format_statistic(all_actions.std(axis=0))}')"
   ]
  },
  {
   "cell_type": "code",
   "execution_count": null,
   "metadata": {},
   "outputs": [],
   "source": [
    "ds_cfgs = yaml.safe_load(open('./data_preprocessing/data_cfg.yaml', 'r'))\n",
    "\n",
    "def ds_cfg_generator():\n",
    "    for k,v in ds_cfgs.items():\n",
    "        if k[0] != '_':\n",
    "            yield (k, v)\n",
    "\n",
    "ds_cfg_iter = ds_cfg_generator()"
   ]
  },
  {
   "cell_type": "code",
   "execution_count": null,
   "metadata": {},
   "outputs": [],
   "source": [
    "dataset_name, cfg = next(ds_cfg_iter)"
   ]
  },
  {
   "cell_type": "code",
   "execution_count": null,
   "metadata": {},
   "outputs": [],
   "source": [
    "\n",
    "f_path = f'/{DATASET_ROOT_RID}/{dataset_name}.hdf5'\n",
    "outer_key = cfg['action']['outer_key']\n",
    "inner_keys = cfg['action']['inner_keys']\n",
    "f = h5py.File(f_path, 'r')\n",
    "image_key = list(cfg['image'].keys())[0]\n",
    "\n",
    "episode = f['episodes/episode_1/']\n",
    "actions = []\n",
    "for inner_key in inner_keys:\n",
    "    v = episode[outer_key][inner_key][()]\n",
    "    if v.dtype == bool or len(v.shape) == 1:\n",
    "        v = np.array(v, dtype=np.float32).reshape(-1, 1)\n",
    "    actions.append(v)\n",
    "actions = np.concatenate(actions, axis=1)"
   ]
  },
  {
   "cell_type": "code",
   "execution_count": null,
   "metadata": {},
   "outputs": [],
   "source": [
    "images = episode['observation'][image_key][()]\n",
    "display_gif_from_images(images)"
   ]
  },
  {
   "cell_type": "code",
   "execution_count": null,
   "metadata": {},
   "outputs": [],
   "source": [
    "f.close()"
   ]
  },
  {
   "cell_type": "code",
   "execution_count": null,
   "metadata": {},
   "outputs": [],
   "source": [
    "dataset_name = 'fractal20220817_data'\n",
    "f_path = f'/{DATASET_ROOT_RID}/{dataset_name}.hdf5'\n",
    "\n",
    "f = h5py.File(f_path, 'r')\n",
    "\n",
    "info = f['shape_type_info']\n",
    "print_group_structure(info)\n",
    "episodes = f['episodes']\n",
    "print(f'episode count: {episodes[\"length\"][()]}')"
   ]
  },
  {
   "cell_type": "code",
   "execution_count": null,
   "metadata": {},
   "outputs": [],
   "source": [
    "def get_episode_action(one_episode):\n",
    "    actions = []\n",
    "    for inner_key in inner_keys:\n",
    "        v = one_episode[outer_key][inner_key][()]\n",
    "        if v.dtype == bool:\n",
    "            v = np.array(v, dtype=np.float32).reshape(-1, 1)\n",
    "        actions.append(v)\n",
    "    actions = np.concatenate(actions, axis=1)\n",
    "    return actions"
   ]
  },
  {
   "cell_type": "code",
   "execution_count": null,
   "metadata": {},
   "outputs": [],
   "source": [
    "# action:\n",
    "outer_key = 'action'\n",
    "inner_keys = ['world_vector', 'rotation_delta', 'gripper_closedness_action']\n",
    "one_episode = episodes['episode_1']\n",
    "\n",
    "actions = get_episode_action(one_episode)\n",
    "\n",
    "images = one_episode['observation']['image'][()]"
   ]
  },
  {
   "cell_type": "code",
   "execution_count": null,
   "metadata": {},
   "outputs": [],
   "source": [
    "# this is desired to be applied on actions as if action is delta, actions should be accumulated to represent a whole trajectory (to be displayed)\n",
    "accumulate_delta_actions(actions[:, :3])"
   ]
  },
  {
   "cell_type": "code",
   "execution_count": null,
   "metadata": {},
   "outputs": [],
   "source": [
    "plot_3d_points_with_gradient_colors(actions)"
   ]
  },
  {
   "cell_type": "code",
   "execution_count": null,
   "metadata": {},
   "outputs": [],
   "source": [
    "display_gif_from_images(images)"
   ]
  },
  {
   "cell_type": "code",
   "execution_count": null,
   "metadata": {},
   "outputs": [],
   "source": [
    "import tqdm\n",
    "num_episodes = episodes['length'][()]\n",
    "episode_lengthes = [0] * num_episodes\n",
    "for i in tqdm.trange(num_episodes):\n",
    "    episode_lengthes[i] = int(episodes[f'episode_{i}']['length'][()])"
   ]
  },
  {
   "cell_type": "code",
   "execution_count": null,
   "metadata": {},
   "outputs": [],
   "source": [
    "\n",
    "all_actions = np.zeros(shape=(sum(episode_lengthes), actions.shape[-1], ), dtype=np.float32)\n",
    "\n",
    "begin_idx = 0\n",
    "for i in tqdm.trange(num_episodes):\n",
    "    all_actions[begin_idx: begin_idx+episode_lengthes[i]] = get_episode_action(episodes[f'episode_{i}'])\n",
    "    begin_idx += episode_lengthes[i]\n",
    "\n",
    "get_statistics(all_actions)"
   ]
  }
 ],
 "metadata": {
  "kernelspec": {
   "display_name": "Python 3",
   "language": "python",
   "name": "python3"
  },
  "language_info": {
   "codemirror_mode": {
    "name": "ipython",
    "version": 3
   },
   "file_extension": ".py",
   "mimetype": "text/x-python",
   "name": "python",
   "nbconvert_exporter": "python",
   "pygments_lexer": "ipython3",
   "version": "3.10.12"
  }
 },
 "nbformat": 4,
 "nbformat_minor": 2
}
